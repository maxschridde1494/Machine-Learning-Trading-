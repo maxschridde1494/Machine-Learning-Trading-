{
 "cells": [
  {
   "cell_type": "code",
   "execution_count": 17,
   "metadata": {
    "collapsed": false
   },
   "outputs": [],
   "source": [
    "import pandas as pd \n",
    "import matplotlib.pyplot as plt\n",
    "\n",
    "def get_max_close(symbol):\n",
    "    \"\"\"Return the maxium closing value for stock indicated by symbol\n",
    "    \"\"\"\n",
    "    df = pd.read_csv(\"data/{}.csv\".format(symbol)) #read in csv file\n",
    "    return df['Close'].max() #compute and return max\n",
    "\n",
    "def get_mean_volume(symbol):\n",
    "    \"\"\"Return the mean closing volume indicated by symbol\n",
    "    \"\"\"\n",
    "    df = pd.read_csv(\"data/{}.csv\".format(symbol)) #read in csv file\n",
    "    return df['Volume'].mean() #compute and return mean\n",
    "\n",
    "def plot_adjusted_close(symbol):\n",
    "    \"\"\"Plot Stock Prices\"\"\"\n",
    "    df = pd.read_csv(\"data/{}.csv\".format(symbol))\n",
    "    df['Adj Close'].plot()\n",
    "    plt.show() #show the plot\n",
    "    \n",
    "\n",
    "def test_run():\n",
    "    for symbol in ['APPL', 'IBM']:\n",
    "        print \"Max close\"\n",
    "        print symbol, get_max_close(symbol)\n",
    "        print \"Mean Volume\"\n",
    "        print get_mean_volume(symbol)\n",
    "        print \"Plot\"\n",
    "        plot_adjusted_close(symbol)\n"
   ]
  },
  {
   "cell_type": "code",
   "execution_count": 18,
   "metadata": {
    "collapsed": false
   },
   "outputs": [
    {
     "name": "stdout",
     "output_type": "stream",
     "text": [
      "Max close\n",
      "APPL 702.100021\n",
      "Mean Volume\n",
      "133541817.369\n",
      "Plot\n",
      "Max close\n",
      "IBM 649.000015\n",
      "Mean Volume\n",
      "4888270.43136\n",
      "Plot\n"
     ]
    }
   ],
   "source": [
    "if __name__ == \"__main__\":\n",
    "    test_run()\n",
    "    "
   ]
  },
  {
   "cell_type": "code",
   "execution_count": null,
   "metadata": {
    "collapsed": true
   },
   "outputs": [],
   "source": []
  }
 ],
 "metadata": {
  "anaconda-cloud": {},
  "kernelspec": {
   "display_name": "Python [Root]",
   "language": "python",
   "name": "Python [Root]"
  },
  "language_info": {
   "codemirror_mode": {
    "name": "ipython",
    "version": 2
   },
   "file_extension": ".py",
   "mimetype": "text/x-python",
   "name": "python",
   "nbconvert_exporter": "python",
   "pygments_lexer": "ipython2",
   "version": "2.7.12"
  }
 },
 "nbformat": 4,
 "nbformat_minor": 0
}
