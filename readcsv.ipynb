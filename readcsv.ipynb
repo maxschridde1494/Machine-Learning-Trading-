{
 "cells": [
  {
   "cell_type": "code",
   "execution_count": 3,
   "metadata": {
    "collapsed": true
   },
   "outputs": [],
   "source": [
    "import pandas as pd \n",
    "\n",
    "def test_run():\n",
    "    df = pd.read_csv(\"data/APPL.csv\")\n",
    "    print df.head()\n",
    "    print df.tail()\n"
   ]
  },
  {
   "cell_type": "code",
   "execution_count": 4,
   "metadata": {
    "collapsed": false
   },
   "outputs": [
    {
     "name": "stdout",
     "output_type": "stream",
     "text": [
      "         Date       Open       High        Low      Close    Volume  Adj Close\n",
      "0  2016-07-07  95.699997  96.500000  95.620003  95.940002  24280900  95.940002\n",
      "1  2016-07-06  94.599998  95.660004  94.370003  95.529999  30770700  95.529999\n",
      "2  2016-07-05  95.389999  95.400002  94.459999  95.040001  27257000  95.040001\n",
      "3  2016-07-01  95.489998  96.470001  95.330002  95.889999  25872300  95.889999\n",
      "4  2016-06-30  94.440002  95.769997  94.300003  95.599998  35119400  95.599998\n",
      "            Date       Open       High      Low      Close     Volume  \\\n",
      "3910  2000-12-18  14.562500  14.624999  13.9375  14.250001   81452000   \n",
      "3911  2000-12-15  14.562500  14.687501  14.0000  14.062500  128486400   \n",
      "3912  2000-12-14  15.031200  15.250000  14.4375  14.437500   65829400   \n",
      "3913  2000-12-13  15.562501  15.562501  14.8750  15.000000   86221800   \n",
      "3914  2000-12-12  15.250000  16.000001  15.0000  15.375000   96565000   \n",
      "\n",
      "      Adj Close  \n",
      "3910   0.936922  \n",
      "3911   0.924594  \n",
      "3912   0.949250  \n",
      "3913   0.986234  \n",
      "3914   1.010890  \n"
     ]
    }
   ],
   "source": [
    "if __name__ == \"__main__\":\n",
    "    test_run()\n",
    "    "
   ]
  },
  {
   "cell_type": "code",
   "execution_count": null,
   "metadata": {
    "collapsed": true
   },
   "outputs": [],
   "source": []
  }
 ],
 "metadata": {
  "anaconda-cloud": {},
  "kernelspec": {
   "display_name": "Python [Root]",
   "language": "python",
   "name": "Python [Root]"
  },
  "language_info": {
   "codemirror_mode": {
    "name": "ipython",
    "version": 2
   },
   "file_extension": ".py",
   "mimetype": "text/x-python",
   "name": "python",
   "nbconvert_exporter": "python",
   "pygments_lexer": "ipython2",
   "version": "2.7.12"
  }
 },
 "nbformat": 4,
 "nbformat_minor": 0
}
